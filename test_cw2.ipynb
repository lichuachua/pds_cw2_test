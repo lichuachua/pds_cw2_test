{
 "cells": [
  {
   "cell_type": "code",
   "execution_count": 266,
   "id": "203694dc7e1949c1",
   "metadata": {
    "ExecuteTime": {
     "end_time": "2023-11-08T15:42:08.401048Z",
     "start_time": "2023-11-08T15:42:08.256761Z"
    }
   },
   "outputs": [
    {
     "name": "stdout",
     "output_type": "stream",
     "text": [
      "0 Tokyo 35.685 139.7514\n",
      "1 New York 40.6943 -73.9249\n",
      "2 Mexico City 19.4424 -99.131\n",
      "3 Mumbai 19.017 72.857\n",
      "4 Sao Paulo -23.5587 -46.625\n"
     ]
    },
    {
     "data": {
      "text/plain": "                       time   latitude   longitude    depth   mag     magType  \\\n0  2023-11-08T15:17:29.893Z  60.691200 -146.710100  21.0000  2.30          ml   \n1  2023-11-08T15:17:16.088Z  59.724600 -144.386400  16.9000  2.80          ml   \n2  2023-11-08T14:47:35.470Z  -6.134300  130.069200  10.0000  5.00          mb   \n3  2023-11-08T14:42:16.780Z  38.835499 -122.815002   1.3700  0.23          md   \n4  2023-11-08T14:33:41.154Z  31.646000 -104.024000   6.8514  1.90  ml(texnet)   \n\n    nst   gap     dmin   rms  ...                   updated  \\\n0   NaN   NaN      NaN  0.66  ...  2023-11-08T15:19:10.741Z   \n1   NaN   NaN      NaN  1.34  ...  2023-11-08T15:21:22.235Z   \n2  78.0  89.0  1.61000  0.63  ...  2023-11-08T15:04:47.040Z   \n3   7.0  79.0  0.01268  0.02  ...  2023-11-08T15:25:13.417Z   \n4  33.0  31.0  0.00000  0.20  ...  2023-11-08T14:47:17.726Z   \n\n                          place        type horizontalError depthError  \\\n0   19 km S of Tatitlek, Alaska  earthquake             NaN   0.200000   \n1  118 km SE of Cordova, Alaska  earthquake             NaN   2.000000   \n2                     Banda Sea  earthquake        3.840000   1.861000   \n3            8 km W of Cobb, CA  earthquake        0.430000   1.180000   \n4     40 km W of Mentone, Texas  earthquake        0.534026   0.517206   \n\n   magError  magNst     status  locationSource magSource  \n0       NaN     NaN  automatic              ak        ak  \n1       NaN     NaN  automatic              ak        ak  \n2     0.068    72.0   reviewed              us        us  \n3     0.060    10.0  automatic              nc        nc  \n4     0.200    24.0   reviewed              tx        tx  \n\n[5 rows x 22 columns]",
      "text/html": "<div>\n<style scoped>\n    .dataframe tbody tr th:only-of-type {\n        vertical-align: middle;\n    }\n\n    .dataframe tbody tr th {\n        vertical-align: top;\n    }\n\n    .dataframe thead th {\n        text-align: right;\n    }\n</style>\n<table border=\"1\" class=\"dataframe\">\n  <thead>\n    <tr style=\"text-align: right;\">\n      <th></th>\n      <th>time</th>\n      <th>latitude</th>\n      <th>longitude</th>\n      <th>depth</th>\n      <th>mag</th>\n      <th>magType</th>\n      <th>nst</th>\n      <th>gap</th>\n      <th>dmin</th>\n      <th>rms</th>\n      <th>...</th>\n      <th>updated</th>\n      <th>place</th>\n      <th>type</th>\n      <th>horizontalError</th>\n      <th>depthError</th>\n      <th>magError</th>\n      <th>magNst</th>\n      <th>status</th>\n      <th>locationSource</th>\n      <th>magSource</th>\n    </tr>\n  </thead>\n  <tbody>\n    <tr>\n      <th>0</th>\n      <td>2023-11-08T15:17:29.893Z</td>\n      <td>60.691200</td>\n      <td>-146.710100</td>\n      <td>21.0000</td>\n      <td>2.30</td>\n      <td>ml</td>\n      <td>NaN</td>\n      <td>NaN</td>\n      <td>NaN</td>\n      <td>0.66</td>\n      <td>...</td>\n      <td>2023-11-08T15:19:10.741Z</td>\n      <td>19 km S of Tatitlek, Alaska</td>\n      <td>earthquake</td>\n      <td>NaN</td>\n      <td>0.200000</td>\n      <td>NaN</td>\n      <td>NaN</td>\n      <td>automatic</td>\n      <td>ak</td>\n      <td>ak</td>\n    </tr>\n    <tr>\n      <th>1</th>\n      <td>2023-11-08T15:17:16.088Z</td>\n      <td>59.724600</td>\n      <td>-144.386400</td>\n      <td>16.9000</td>\n      <td>2.80</td>\n      <td>ml</td>\n      <td>NaN</td>\n      <td>NaN</td>\n      <td>NaN</td>\n      <td>1.34</td>\n      <td>...</td>\n      <td>2023-11-08T15:21:22.235Z</td>\n      <td>118 km SE of Cordova, Alaska</td>\n      <td>earthquake</td>\n      <td>NaN</td>\n      <td>2.000000</td>\n      <td>NaN</td>\n      <td>NaN</td>\n      <td>automatic</td>\n      <td>ak</td>\n      <td>ak</td>\n    </tr>\n    <tr>\n      <th>2</th>\n      <td>2023-11-08T14:47:35.470Z</td>\n      <td>-6.134300</td>\n      <td>130.069200</td>\n      <td>10.0000</td>\n      <td>5.00</td>\n      <td>mb</td>\n      <td>78.0</td>\n      <td>89.0</td>\n      <td>1.61000</td>\n      <td>0.63</td>\n      <td>...</td>\n      <td>2023-11-08T15:04:47.040Z</td>\n      <td>Banda Sea</td>\n      <td>earthquake</td>\n      <td>3.840000</td>\n      <td>1.861000</td>\n      <td>0.068</td>\n      <td>72.0</td>\n      <td>reviewed</td>\n      <td>us</td>\n      <td>us</td>\n    </tr>\n    <tr>\n      <th>3</th>\n      <td>2023-11-08T14:42:16.780Z</td>\n      <td>38.835499</td>\n      <td>-122.815002</td>\n      <td>1.3700</td>\n      <td>0.23</td>\n      <td>md</td>\n      <td>7.0</td>\n      <td>79.0</td>\n      <td>0.01268</td>\n      <td>0.02</td>\n      <td>...</td>\n      <td>2023-11-08T15:25:13.417Z</td>\n      <td>8 km W of Cobb, CA</td>\n      <td>earthquake</td>\n      <td>0.430000</td>\n      <td>1.180000</td>\n      <td>0.060</td>\n      <td>10.0</td>\n      <td>automatic</td>\n      <td>nc</td>\n      <td>nc</td>\n    </tr>\n    <tr>\n      <th>4</th>\n      <td>2023-11-08T14:33:41.154Z</td>\n      <td>31.646000</td>\n      <td>-104.024000</td>\n      <td>6.8514</td>\n      <td>1.90</td>\n      <td>ml(texnet)</td>\n      <td>33.0</td>\n      <td>31.0</td>\n      <td>0.00000</td>\n      <td>0.20</td>\n      <td>...</td>\n      <td>2023-11-08T14:47:17.726Z</td>\n      <td>40 km W of Mentone, Texas</td>\n      <td>earthquake</td>\n      <td>0.534026</td>\n      <td>0.517206</td>\n      <td>0.200</td>\n      <td>24.0</td>\n      <td>reviewed</td>\n      <td>tx</td>\n      <td>tx</td>\n    </tr>\n  </tbody>\n</table>\n<p>5 rows × 22 columns</p>\n</div>"
     },
     "metadata": {},
     "output_type": "display_data"
    },
    {
     "name": "stdout",
     "output_type": "stream",
     "text": [
      "Number of quakes of depth 100 or deeper: 11\n"
     ]
    },
    {
     "data": {
      "text/plain": "                         time  latitude  longitude    depth  mag magType  \\\n214  2023-11-07T18:15:34.330Z   18.7821   145.2967  623.202  5.6     mww   \n138  2023-11-08T03:44:27.227Z  -23.3322  -179.5710  550.924  4.5      mb   \n38   2023-11-08T12:28:16.882Z  -23.9740  -179.6124  477.355  4.5      mb   \n10   2023-11-08T13:56:20.826Z   21.5708   143.0808  320.395  4.6      mb   \n92   2023-11-08T10:02:02.233Z   63.0999  -150.8850  131.100  2.4      ml   \n228  2023-11-07T15:56:49.683Z   62.9699  -151.2325  120.900  1.2      ml   \n221  2023-11-07T17:09:03.943Z   63.1770  -150.4990  115.500  1.9      ml   \n212  2023-11-07T18:25:31.221Z  -20.7860   -69.1905  115.144  4.4      mb   \n134  2023-11-08T04:13:01.334Z   60.0810  -153.0992  113.900  2.6      ml   \n69   2023-11-08T10:59:43.504Z  -22.0908   -68.8081  111.064  4.4     mwr   \n32   2023-11-08T12:39:41.924Z   37.0299    30.2316  100.993  4.4      mb   \n\n       nst    gap   dmin   rms  ...                   updated  \\\n214  111.0   42.0  5.180  0.55  ...  2023-11-08T12:25:40.650Z   \n138   28.0  103.0  4.582  0.52  ...  2023-11-08T04:03:55.040Z   \n38    43.0  100.0  4.939  1.10  ...  2023-11-08T12:42:10.040Z   \n10   157.0   38.0  8.119  0.59  ...  2023-11-08T14:51:36.040Z   \n92     NaN    NaN    NaN  0.30  ...  2023-11-08T10:17:31.040Z   \n228    NaN    NaN    NaN  0.36  ...  2023-11-07T17:32:44.993Z   \n221    NaN    NaN    NaN  0.24  ...  2023-11-07T17:11:13.048Z   \n212   20.0   69.0  0.378  0.74  ...  2023-11-08T01:26:56.864Z   \n134    NaN    NaN    NaN  0.75  ...  2023-11-08T04:15:22.687Z   \n69    17.0   46.0  0.878  0.70  ...  2023-11-08T11:10:03.040Z   \n32    68.0   48.0  0.382  0.86  ...  2023-11-08T13:05:59.040Z   \n\n                                        place        type horizontalError  \\\n214    Pagan region, Northern Mariana Islands  earthquake           10.40   \n138                 south of the Fiji Islands  earthquake           14.26   \n38                  south of the Fiji Islands  earthquake           12.30   \n10                     Mariana Islands region  earthquake            7.85   \n92   64 km SE of Denali National Park, Alaska  earthquake             NaN   \n228          57 km NNW of Petersville, Alaska  earthquake             NaN   \n221  73 km SE of Denali National Park, Alaska  earthquake             NaN   \n212                           Tarapaca, Chile  earthquake            5.61   \n134            65 km ENE of Pedro Bay, Alaska  earthquake             NaN   \n69                 42 km NNE of Calama, Chile  earthquake            5.62   \n32               5 km SE of Korkuteli, Turkey  earthquake            6.09   \n\n    depthError  magError  magNst     status  locationSource magSource  \n214      6.480     0.080    15.0   reviewed              us        us  \n138     12.428     0.113    23.0   reviewed              us        us  \n38       9.338     0.086    39.0   reviewed              us        us  \n10       5.099     0.035   248.0   reviewed              us        us  \n92       0.700       NaN     NaN  automatic              ak        ak  \n228      0.900       NaN     NaN   reviewed              ak        ak  \n221      1.100       NaN     NaN  automatic              ak        ak  \n212      7.634     0.190     8.0   reviewed              us        us  \n134      1.700       NaN     NaN  automatic              ak        ak  \n69       8.695     0.080    15.0   reviewed              us        us  \n32       6.924     0.103    27.0   reviewed              us        us  \n\n[11 rows x 22 columns]",
      "text/html": "<div>\n<style scoped>\n    .dataframe tbody tr th:only-of-type {\n        vertical-align: middle;\n    }\n\n    .dataframe tbody tr th {\n        vertical-align: top;\n    }\n\n    .dataframe thead th {\n        text-align: right;\n    }\n</style>\n<table border=\"1\" class=\"dataframe\">\n  <thead>\n    <tr style=\"text-align: right;\">\n      <th></th>\n      <th>time</th>\n      <th>latitude</th>\n      <th>longitude</th>\n      <th>depth</th>\n      <th>mag</th>\n      <th>magType</th>\n      <th>nst</th>\n      <th>gap</th>\n      <th>dmin</th>\n      <th>rms</th>\n      <th>...</th>\n      <th>updated</th>\n      <th>place</th>\n      <th>type</th>\n      <th>horizontalError</th>\n      <th>depthError</th>\n      <th>magError</th>\n      <th>magNst</th>\n      <th>status</th>\n      <th>locationSource</th>\n      <th>magSource</th>\n    </tr>\n  </thead>\n  <tbody>\n    <tr>\n      <th>214</th>\n      <td>2023-11-07T18:15:34.330Z</td>\n      <td>18.7821</td>\n      <td>145.2967</td>\n      <td>623.202</td>\n      <td>5.6</td>\n      <td>mww</td>\n      <td>111.0</td>\n      <td>42.0</td>\n      <td>5.180</td>\n      <td>0.55</td>\n      <td>...</td>\n      <td>2023-11-08T12:25:40.650Z</td>\n      <td>Pagan region, Northern Mariana Islands</td>\n      <td>earthquake</td>\n      <td>10.40</td>\n      <td>6.480</td>\n      <td>0.080</td>\n      <td>15.0</td>\n      <td>reviewed</td>\n      <td>us</td>\n      <td>us</td>\n    </tr>\n    <tr>\n      <th>138</th>\n      <td>2023-11-08T03:44:27.227Z</td>\n      <td>-23.3322</td>\n      <td>-179.5710</td>\n      <td>550.924</td>\n      <td>4.5</td>\n      <td>mb</td>\n      <td>28.0</td>\n      <td>103.0</td>\n      <td>4.582</td>\n      <td>0.52</td>\n      <td>...</td>\n      <td>2023-11-08T04:03:55.040Z</td>\n      <td>south of the Fiji Islands</td>\n      <td>earthquake</td>\n      <td>14.26</td>\n      <td>12.428</td>\n      <td>0.113</td>\n      <td>23.0</td>\n      <td>reviewed</td>\n      <td>us</td>\n      <td>us</td>\n    </tr>\n    <tr>\n      <th>38</th>\n      <td>2023-11-08T12:28:16.882Z</td>\n      <td>-23.9740</td>\n      <td>-179.6124</td>\n      <td>477.355</td>\n      <td>4.5</td>\n      <td>mb</td>\n      <td>43.0</td>\n      <td>100.0</td>\n      <td>4.939</td>\n      <td>1.10</td>\n      <td>...</td>\n      <td>2023-11-08T12:42:10.040Z</td>\n      <td>south of the Fiji Islands</td>\n      <td>earthquake</td>\n      <td>12.30</td>\n      <td>9.338</td>\n      <td>0.086</td>\n      <td>39.0</td>\n      <td>reviewed</td>\n      <td>us</td>\n      <td>us</td>\n    </tr>\n    <tr>\n      <th>10</th>\n      <td>2023-11-08T13:56:20.826Z</td>\n      <td>21.5708</td>\n      <td>143.0808</td>\n      <td>320.395</td>\n      <td>4.6</td>\n      <td>mb</td>\n      <td>157.0</td>\n      <td>38.0</td>\n      <td>8.119</td>\n      <td>0.59</td>\n      <td>...</td>\n      <td>2023-11-08T14:51:36.040Z</td>\n      <td>Mariana Islands region</td>\n      <td>earthquake</td>\n      <td>7.85</td>\n      <td>5.099</td>\n      <td>0.035</td>\n      <td>248.0</td>\n      <td>reviewed</td>\n      <td>us</td>\n      <td>us</td>\n    </tr>\n    <tr>\n      <th>92</th>\n      <td>2023-11-08T10:02:02.233Z</td>\n      <td>63.0999</td>\n      <td>-150.8850</td>\n      <td>131.100</td>\n      <td>2.4</td>\n      <td>ml</td>\n      <td>NaN</td>\n      <td>NaN</td>\n      <td>NaN</td>\n      <td>0.30</td>\n      <td>...</td>\n      <td>2023-11-08T10:17:31.040Z</td>\n      <td>64 km SE of Denali National Park, Alaska</td>\n      <td>earthquake</td>\n      <td>NaN</td>\n      <td>0.700</td>\n      <td>NaN</td>\n      <td>NaN</td>\n      <td>automatic</td>\n      <td>ak</td>\n      <td>ak</td>\n    </tr>\n    <tr>\n      <th>228</th>\n      <td>2023-11-07T15:56:49.683Z</td>\n      <td>62.9699</td>\n      <td>-151.2325</td>\n      <td>120.900</td>\n      <td>1.2</td>\n      <td>ml</td>\n      <td>NaN</td>\n      <td>NaN</td>\n      <td>NaN</td>\n      <td>0.36</td>\n      <td>...</td>\n      <td>2023-11-07T17:32:44.993Z</td>\n      <td>57 km NNW of Petersville, Alaska</td>\n      <td>earthquake</td>\n      <td>NaN</td>\n      <td>0.900</td>\n      <td>NaN</td>\n      <td>NaN</td>\n      <td>reviewed</td>\n      <td>ak</td>\n      <td>ak</td>\n    </tr>\n    <tr>\n      <th>221</th>\n      <td>2023-11-07T17:09:03.943Z</td>\n      <td>63.1770</td>\n      <td>-150.4990</td>\n      <td>115.500</td>\n      <td>1.9</td>\n      <td>ml</td>\n      <td>NaN</td>\n      <td>NaN</td>\n      <td>NaN</td>\n      <td>0.24</td>\n      <td>...</td>\n      <td>2023-11-07T17:11:13.048Z</td>\n      <td>73 km SE of Denali National Park, Alaska</td>\n      <td>earthquake</td>\n      <td>NaN</td>\n      <td>1.100</td>\n      <td>NaN</td>\n      <td>NaN</td>\n      <td>automatic</td>\n      <td>ak</td>\n      <td>ak</td>\n    </tr>\n    <tr>\n      <th>212</th>\n      <td>2023-11-07T18:25:31.221Z</td>\n      <td>-20.7860</td>\n      <td>-69.1905</td>\n      <td>115.144</td>\n      <td>4.4</td>\n      <td>mb</td>\n      <td>20.0</td>\n      <td>69.0</td>\n      <td>0.378</td>\n      <td>0.74</td>\n      <td>...</td>\n      <td>2023-11-08T01:26:56.864Z</td>\n      <td>Tarapaca, Chile</td>\n      <td>earthquake</td>\n      <td>5.61</td>\n      <td>7.634</td>\n      <td>0.190</td>\n      <td>8.0</td>\n      <td>reviewed</td>\n      <td>us</td>\n      <td>us</td>\n    </tr>\n    <tr>\n      <th>134</th>\n      <td>2023-11-08T04:13:01.334Z</td>\n      <td>60.0810</td>\n      <td>-153.0992</td>\n      <td>113.900</td>\n      <td>2.6</td>\n      <td>ml</td>\n      <td>NaN</td>\n      <td>NaN</td>\n      <td>NaN</td>\n      <td>0.75</td>\n      <td>...</td>\n      <td>2023-11-08T04:15:22.687Z</td>\n      <td>65 km ENE of Pedro Bay, Alaska</td>\n      <td>earthquake</td>\n      <td>NaN</td>\n      <td>1.700</td>\n      <td>NaN</td>\n      <td>NaN</td>\n      <td>automatic</td>\n      <td>ak</td>\n      <td>ak</td>\n    </tr>\n    <tr>\n      <th>69</th>\n      <td>2023-11-08T10:59:43.504Z</td>\n      <td>-22.0908</td>\n      <td>-68.8081</td>\n      <td>111.064</td>\n      <td>4.4</td>\n      <td>mwr</td>\n      <td>17.0</td>\n      <td>46.0</td>\n      <td>0.878</td>\n      <td>0.70</td>\n      <td>...</td>\n      <td>2023-11-08T11:10:03.040Z</td>\n      <td>42 km NNE of Calama, Chile</td>\n      <td>earthquake</td>\n      <td>5.62</td>\n      <td>8.695</td>\n      <td>0.080</td>\n      <td>15.0</td>\n      <td>reviewed</td>\n      <td>us</td>\n      <td>us</td>\n    </tr>\n    <tr>\n      <th>32</th>\n      <td>2023-11-08T12:39:41.924Z</td>\n      <td>37.0299</td>\n      <td>30.2316</td>\n      <td>100.993</td>\n      <td>4.4</td>\n      <td>mb</td>\n      <td>68.0</td>\n      <td>48.0</td>\n      <td>0.382</td>\n      <td>0.86</td>\n      <td>...</td>\n      <td>2023-11-08T13:05:59.040Z</td>\n      <td>5 km SE of Korkuteli, Turkey</td>\n      <td>earthquake</td>\n      <td>6.09</td>\n      <td>6.924</td>\n      <td>0.103</td>\n      <td>27.0</td>\n      <td>reviewed</td>\n      <td>us</td>\n      <td>us</td>\n    </tr>\n  </tbody>\n</table>\n<p>11 rows × 22 columns</p>\n</div>"
     },
     "metadata": {},
     "output_type": "display_data"
    }
   ],
   "source": [
    "%run 'A2_Earthquakes_V2.ipynb'"
   ]
  },
  {
   "cell_type": "code",
   "execution_count": 267,
   "id": "b30c6501d30d690c",
   "metadata": {
    "ExecuteTime": {
     "end_time": "2023-11-08T15:42:08.459210Z",
     "start_time": "2023-11-08T15:42:08.401318Z"
    }
   },
   "outputs": [
    {
     "name": "stdout",
     "output_type": "stream",
     "text": [
      "yiyang\n"
     ]
    }
   ],
   "source": [
    "res = {'Fushë Kosovë', 'Žabljak', 'Gijón', 'Žabari', 'Açu', 'Vevčani', 'Šibenik', 'Nuquí', 'Orël', 'Santo António',\n",
    "       'Chānda', 'Sühbaatar', 'Dembī Dolo', 'Frías', 'Bắc Kạn', 'Isnā', 'Potosí', 'Zelënodol’sk', 'Ereğli', 'Varėna',\n",
    "       'An Nāşirīyah', 'Pánuco', 'Tingo María', 'Şəki', 'Viļāni', 'Tepelenë', 'Catió', 'Gümüşhane', 'Gorgān', 'Žalec',\n",
    "       'P’yŏngsan', 'Araguaína', 'Šid', '‘Ibrī', 'Cáceres', 'Nouméa', 'Sédhiou', 'Vilkaviškis', 'Xo‘jayli Shahri',\n",
    "       'Kočevje', 'Pervoural’sk', 'Ad Dammām', 'Hachiōji', 'Tamuín', 'Sørum', 'Anouvông', 'Krivogaštani', 'Chillán',\n",
    "       'Łódź', 'Peñuelas', 'Aqsū', 'Ciudad Lázaro Cárdenas', 'Dzüünharaa', 'Engel’s', 'Sūrat',\n",
    "       'Vila Bela da Santíssima Trindade', 'Krujë', 'Lívingston', 'La Asunción', 'Medinīpur', 'Lənkəran', 'Al Qaşr',\n",
    "       'Deçan', 'Al Mukallā', 'Sakākā', 'Podčetrtek', 'Masallı', 'Az̧ Z̧a‘āyin', 'Salto del Guairá', 'Sonsón', 'Grajaú',\n",
    "       'Chíos', 'Entre Ríos', 'Aqtöbe', 'Ngaoundéré', 'Ugol’nyye Kopi', 'Ternopil’', 'Līvāni', 'Bà Rịa', 'Āgra',\n",
    "       'Luts’k', 'Mazatlán', 'Ústí nad Labem', 'Orléans', 'Göyçay', 'Siyəzən', 'Dahūk', 'Itajaí', 'Jirjā', 'Radā‘',\n",
    "       'Vũng Tàu', 'Namp’o', 'Borlänge', 'Chīrāla', 'Al Manāqil', 'Ploieşti', 'Edéa', 'Zāhedān', 'Pakxé', 'Copiapó',\n",
    "       'Liège', 'Sabhā', 'Ciudad Cortés', 'Şuḩār', 'Kalamáta', 'Ōbiraki', 'Qıvraq', 'Mamushë', 'Ḩā’il', 'Berbérati',\n",
    "       'Białystok', 'Malāyer', 'Korçë', 'Quảng Trị', 'Butwāl', 'Kōbe', 'Tver’', 'Bávaro', 'Al ‘Uqaylah', 'Burhānpur',\n",
    "       'Ash Shaţrah', 'Mādabā', 'Negēlē', 'Niğde', 'Joaçaba', 'Coalcomán de Vázquez Pallares', 'Godē', 'As Sīb',\n",
    "       'Artëmovskiy', 'Ţanţā', 'Jūrmala', 'Birāṭnagar', 'Barisāl', 'Saatlı', 'Şa‘dah', 'Makīnsk', 'Preiļi', 'Zlín',\n",
    "       'N’Zérékoré', 'Quy Nhơn', 'Cao Bằng', 'Gorē', 'Šalovci', 'General Martín Miguel de Güemes', 'Cần Thơ',\n",
    "       'Az Zaqāzīq', 'Ravne na Koroškem', 'Ahvāz', 'Qŭnghirot', 'Kérkyra', 'Ardabīl', 'Tvøroyri', 'Mazatán', 'Grobiņa',\n",
    "       'Tôlan̈aro', 'Villazón', 'Itaúna', 'Abaí', 'Hillerød', 'Vyshniy Volochëk', 'Tai’an', 'Tiruppūr', 'Molėtai',\n",
    "       'Miklavž na Dravskem Polju', 'Penonomé', 'Studeničani', 'Bol’sheretsk', 'Néma', 'Belén', 'České Budějovice',\n",
    "       'Kōfu', 'Kürdəmir', 'N’Djamena', 'Barra do Garças', 'Mỹ Tho', 'Ijuí', 'Bafatá', 'Zaječar', 'Vicuña',\n",
    "       'Ştefan Vodă', 'Dajabón', 'Žitorađa', 'Gharyān', 'Ash Shīḩānīyah', 'Balancán', 'Bogandé', 'Klaksvík', 'Cametá',\n",
    "       'Vänersborg', 'Strenči', 'São Mateus', 'Divinópolis', 'Usulután', 'Goiânia', 'Vyaz’ma', 'Ħamrun',\n",
    "       'Székesfehérvár', 'Rājshāhi', 'Saint-Benoît', 'Mbaïki', 'Porto Inglês', 'Bắc Giang', 'Koupéla', 'Alatyr’',\n",
    "       'Sơn La', 'Dal’negorsk', 'Tébessa', 'Rivière-du-Loup', 'Qal‘ah-ye Now', 'Nevel’sk', 'Đồng Xoài', 'San-Pédro',\n",
    "       'Mar de Ajó', 'Abhā', 'Krasnoural’sk', 'Šempeter pri Gorici', 'Setúbal', 'Cuiabá', 'Stari Trg pri Ložu',\n",
    "       'Besançon', 'Oğuz', 'Munch’ŏn', 'Nikel’', 'Neuchâtel', 'Poljčane', 'Divača', 'Jequié', 'Vác', 'Čoka',\n",
    "       'Ereymentaū', 'Bacău', 'Borūjerd', 'Mārupe', 'Guantánamo', 'Hải Dương', 'Jõhvi', 'Réo', 'Ocaña', 'Montería',\n",
    "       'Korosten’', 'Ébolowa', 'Seinäjoki', 'Semnān', 'Conceição do Araguaia', 'Criciúma', 'Chiquinquirá', 'Aiguá',\n",
    "       'Saïda', 'Sodankylä', 'Rostuša', 'Foz do Iguaçu', 'Khmel’nyts’kyy', 'Arkhangel’sk', 'Areguá', 'Icó',\n",
    "       'Río Cuarto', 'Szekszárd', 'Knjaževac', 'Eşfahān', 'Tauá', 'Ibrā’', 'Lieģi', 'Maceió', 'Tatuí', 'Ghardaïa',\n",
    "       'Sorø', 'Bačka Palanka', 'Drabeši', 'Voznesens’k', 'Torreón', '‘Ajlūn', 'Wŏnju', 'Črna na Koroškem', 'Gaspé',\n",
    "       'Kocēni', 'Karbalā’', 'Tomaž pri Ormožu', 'Râmnicu Vâlcea', 'Forécariah', 'Sémbé', 'Inowrocław', 'São Gabriel',\n",
    "       'Tocantinópolis', 'Sāngli', 'Việt Trì', 'Sežana', 'Zaozërnyy', 'Évora', 'Kentaū', 'Gómez Palacio', 'Bắc Ninh',\n",
    "       'Ad Dīwānīyah', 'Ōita', 'Aş Şuwayḩirah as Sāḩil', 'Lushnjë', 'Sāmarrā’', 'Ćuprija', 'Tabūk', 'Hödrögö', 'Semič',\n",
    "       'Volčja Draga', 'Sunch’ŏn', 'Villa O’Higgins', 'Grudziądz', 'Ağsu', 'Pejë', 'Bardaï', 'Caràzinho', 'Fdérik',\n",
    "       'Dhanbād', 'Shīrāz', 'Radoviš', 'Kpalimé', 'Al Quway‘īyah', 'São José do Rio Prêto', 'Ţarţūs', 'Bečej',\n",
    "       'Birštonas', 'Ust’-Nyukzha', 'Ust’-Kut', 'Kičevo', 'Şərur', 'Machilīpatnam', 'Técpan de Galeana', 'Chascomús',\n",
    "       'Oriximiná', 'Miahuatlán de Porfirio Díaz', 'Ta’ Xbiex', 'Pančevo', 'Rosário', 'Sóc Trăng', 'Al Başrah',\n",
    "       'Cuencamé de Ceniceros', 'Kelmė', 'Ghāt', 'Jimaní', 'El Maitén', 'Tougué', 'Kāshān', 'Guaxupé', 'Güeppí',\n",
    "       'Tajarhī', 'Ấp Đa Lợi', 'Aţ Ţā’if', 'Kolhāpur', 'Alūksne', 'Biržai', 'Petrópolis', 'Kohtla-Järve', 'Pābna',\n",
    "       'Aračinovo', 'Göygöl', 'Abdurahmoni Jomí', 'Karabük', 'Khaşab', 'Rājkot', 'Obleševo', 'Palé', 'Sārī', 'Tāngāil',\n",
    "       'Irecê', 'Pointe-à-Pitre', 'Corumbá', 'Ḩadībū', 'Hrib-Loški Potok', 'Macará', 'Ropaži', 'Puerto López', 'Sakété',\n",
    "       'Dehra Dūn', 'Nova Viçosa', 'Târgovişte', 'Luján', 'Patiāla', 'Šilalė', 'Bīdar', 'Santo Tomás', 'Qaşr-e Shīrīn',\n",
    "       'Mandalgovĭ', 'Ambāla', 'Béni Mellal', 'N’dalatando', 'Usol’ye-Sibirskoye', 'Tarīn Kōṯ', 'Mytilíni', 'Kärdla',\n",
    "       'San Andrés', 'Villa Unión', 'Bartın', 'Odžaci', 'Vladičin Han', 'Ilhéus', 'Jacarèzinho', 'Bella Unión', 'Zābol',\n",
    "       'Hạ Long', 'Aïn Temouchent', 'Tizimín', 'Mocímboa', 'Velike Lašče', 'Karnāl', 'Târgu Jiu', 'Ust’-Olenëk',\n",
    "       'Skúvoy', 'Chitré', 'Ķekava', 'Probištip', 'Lambaréné', 'Fámjin', 'Ḩafar al Bāţin', 'Yerëma', 'Yāsūj',\n",
    "       'Ālbū Kamāl', 'Río Grande', 'Presidencia Roque Sáenz Peña', 'Meknès', 'Orūmīyeh', 'Trà Vinh', 'Veszprém',\n",
    "       'Hódmezővásárhely', 'Tobol’sk', 'Val-d’Or', 'Kishkeneköl', 'Barddhamān', 'Tall ‘Afar', 'Uşak', 'Umm Şalāl ‘Alī',\n",
    "       'Ārba Minch’', 'Timişoara', 'Neftçala', 'Chalkída', 'Āsansol', 'Zarghūn Shahr', 'Dyat’kovo', 'Höfn', 'Brocēni',\n",
    "       'Phôn-Hông', 'Teófilo Otoni', 'Marawī', 'Aţ Ţūr', 'Xagħra', 'Rîşcani', 'Pájaros', 'Kropyvnyts’kyy', 'Irákleio',\n",
    "       'Čajetina', 'Ghaznī', 'Kruševac', 'Zuwārah', 'São Lourenço do Sul', 'Timbaúba', 'Adıyaman', 'Anápolis',\n",
    "       'Kōenchō', 'Lüleburgaz', 'Ilūkste', 'Maués', 'Acatlán de Osorio', 'Al Ḩasakah', 'Ma‘ān', 'Al ‘Azīzīyah',\n",
    "       'Ciudad Bolívar', 'Lukovica pri Domžalah', 'Šentjur', 'Sangolquí', 'Murang’a', 'Kəlbəcər', 'Gonaïves',\n",
    "       'Għajnsielem', 'Birżebbuġa', 'Túquerres', 'Srīnagar', 'Bocaiúva', 'Médéa', 'Ełk', 'Đông Hà', 'Trois-Rivières',\n",
    "       'Bafoulabé', 'Zərdab', 'Tumkūr', 'Borås', 'Qŭrghonteppa', 'Villa Martín Colchak', 'Shibīn al Kawm', 'Mariupol’',\n",
    "       'Bejaïa', 'Reykjavík', 'Pô', 'Uman’', 'Braslovče', 'Düsseldorf', 'Naxçıvan', 'Dal’nerechensk', 'Gəncə',\n",
    "       'León de los Aldama', 'Yirga ‘Alem', 'Sŏnbong', 'Võru', 'Xırdalan', 'Bāramūla', 'El’dikan', 'As Sulaymānīyah',\n",
    "       'Tillabéri', 'Ioánnina', 'Añatuya', 'City of Parañaque', 'Kotel’nich', 'Podujevë', 'Gonbad-e Kāvūs', 'Pļaviņas',\n",
    "       'Ribeirão Prêto', 'Žetale', 'Nuku‘alofa', 'Tol’yatti', 'Nek’emtē', 'Paranaguá', 'Dédougou', 'Ivano-Frankivs’k',\n",
    "       'L’viv', 'Çeleken', 'Bạc Liêu', 'Lysychans’k', 'Skálavík', 'Örnsköldsvik', 'Gardēz', 'Olenëk', 'Šiauliai',\n",
    "       'Novi Bečej', 'Madīnat ash Shamāl', 'Muş', 'Pānīpat', 'Estelí', 'Campo Mourão', 'Jáltipan de Morelos', 'Añasco',\n",
    "       'Perm’', 'Dūmā', 'Cəbrayıl', 'Samaná', 'Lātūr', 'Lamía', 'Švenčionys', 'Capitão Poço', 'Andkhōy', 'Sannār',\n",
    "       'Xızı', 'Tefé', 'San Francisco de Macorís', 'San Martín', 'Kolār', 'Kōṯah-ye ‘As̲h̲rō', 'Cárdenas',\n",
    "       'Príncipe da Beira', 'Ciego de Ávila', 'Agrínio', 'Juršinci', 'Cobán', 'Qubadlı', 'Telêmaco Borba', 'Heṭauḍā',\n",
    "       'Focşani', 'Banská Bystrica', 'Huế', 'Isil’kul’', 'Požarevac', 'San José de Chiquitos', 'Medveđa', 'Dunaújváros',\n",
    "       'Kırklareli', 'Logroño', 'Inđija', 'Mŭynoq', 'Curicó', 'Obluch’ye', 'Osnabrück', 'Acaraú', 'İmişli', 'Maīmanah',\n",
    "       'Caçador', 'Concórdia', 'Al Jabīn', 'Beppuchō', 'Rrëshen', 'Santo Ângelo', 'Križevci pri Ljutomeru', 'Biləsuvar',\n",
    "       'Tupã', 'Baghlān', 'Cañon City', 'Stavropol’', 'Totonicapán', 'Al ‘Ayn', 'Cádiz', 'Prešov', 'Caracaraí',\n",
    "       'Sovetskaya Gavan’', 'Neuquén', 'Daşoguz', 'Canóvanas', 'Quảng Ngãi', 'Apače', 'Nizwá', 'Allahābād', 'Al Bayḑā’',\n",
    "       'Januária', 'Cañas', 'Bengalūru', 'Nong’an', 'Sansanné-Mango', 'Bugul’ma', 'León', 'São Paulo', 'Črnomelj',\n",
    "       'Kvívík', 'Spassk-Dal’niy', 'Rēzekne', 'Khromtaū', 'Žabalj', 'Kermānshāh', 'Bhiwāni', 'Araranguá', 'Domžale',\n",
    "       'İskenderun', 'Alausí', 'Niš', 'Ocniţa', 'Marāgheh', 'Behbahān', 'Östersund', 'Kawm Umbū', 'Eskişehir',\n",
    "       'Aïn Defla', 'Uíge', 'Santa Bárbara', 'Diyarbakır', 'Taxco de Alarcón', 'Ahuachapán', 'São Francisco do Sul',\n",
    "       'Şuşa', 'Galaţi', 'Wŏnsan', 'Ingeniero Guillermo N. Juárez', 'Rečica ob Savinji', 'Laï', 'San José de las Lajas',\n",
    "       'Cap-Haïtien', 'Bouaké', 'Pôrto União', 'Mažeikiai', 'Jérémie', 'Shkodër', 'Béja', 'Tabrīz', 'Vārānasi',\n",
    "       'Al Jahrā’', 'Rokiškis', 'Al Aḩmadī', 'Sveti Jurij ob Ščavnici', 'Chābahār', 'Ponta Porã', 'Damanhūr',\n",
    "       'Tiruvannāmalai', 'Sarandë', 'Alīgarh', 'Mellieħa', 'Baturité', 'Qo‘qon', 'Eséka', 'Thanh Hóa', 'Shahreẕā',\n",
    "       'Gorišnica', 'Zielona Góra', 'Amrāvati', 'Mataró', 'Rāmechhāp', 'Örebro', 'P’yŏngsŏng', 'Abunã', 'Zárate',\n",
    "       'Yuscarán', 'Türkmenbaşy', 'João Pessoa', 'Hachimanchō', 'Wé', 'Ñacunday', 'Shtërpcë', 'Kupiškis', 'Araçatuba',\n",
    "       'Bagé', 'La Cañada Flintridge', 'Lučani', 'Oficina María Elena', 'San Luis Potosí', 'Janaúba', 'Carúpano',\n",
    "       'Keflavík', 'Túxpam de Rodríguez Cano', 'San Germán', 'Awbārī', 'São Borja', 'Covilhã', 'Cəlilabad', 'Kecskemét',\n",
    "       'Quellón', 'Ash Shiḩr', 'Kamenicë', 'Ascensión', 'P’ot’i', 'Culiacán', 'Sal’sk', 'Ghāziābād', 'Muğla',\n",
    "       'Sauðárkrókur', 'Cēsis', 'Santiago de Tolú', 'Kiselëvsk', 'Mahābād', 'San Vicente del Caguán', 'Çorum',\n",
    "       'Sopište', 'Joniškis', 'Orocué', 'Ul’yanovsk', 'Jundiaí', 'Jamālpur', 'Maḩmūd-e Rāqī', 'Kosjerić', 'Encarnación',\n",
    "       'Pul-e ‘Alam', 'Cà Mau', 'Târgu-Mureş', 'Aurangābād', 'Qing’an', 'Vālpārai', 'Ürümqi', 'Nīlī', 'Bhīlwāra',\n",
    "       'Qəzyan', 'San Ramón', 'Botoşani', 'Tehuacán', 'Nāgercoil', 'Vĩnh Yên', 'Phan Rang-Tháp Chàm', 'Xigazê',\n",
    "       'Hong’an', 'Ciénaga', 'Al Minyā', 'Toruń', 'Léo', 'Hà Giang', 'Nal’chik', 'Al Qaţīf', 'Kukës', 'Lubāna',\n",
    "       'Viļaka', 'Higüey', 'Šalčininkai', 'Garça', 'Camagüey', 'Santa Rosalía', 'Avaré', 'Sidi Bel Abbès', 'Pehčevo',\n",
    "       'Zreče', 'Rosário do Sul', 'Škofljica', 'Saint-Étienne', 'Ahmadābād', 'Sumqayıt', 'Dhūlia', 'Qinā',\n",
    "       'Rājahmundry', 'Gorzów Wielkopolski', 'Los Ángeles', 'Yong’an', 'Ferkessédougou', 'Kraków', 'Saltangará',\n",
    "       'Bilāspur', '’s-Hertogenbosch', 'San Nicolás de los Arroyos', 'Ob’', 'Kateríni', 'Shar’ya', 'Şahbuz',\n",
    "       'Şanlıurfa', 'Mossoró', 'Maturín', 'Ar Ruţbah', 'Satupa‘itea', 'Kazan’', 'Belčišta', 'Naukšēni', 'Godāwari̇̄',\n",
    "       'Pärnu', 'Shibirghān', 'Sŏngnam', 'Hamhŭng', 'Jumlā', 'Colón', 'Araxá', 'Bajina Bašta', 'Łutselk’e', 'Diébougou',\n",
    "       'Concepción del Uruguay', 'Nāgpur', 'Olëkminsk', 'Ersekë', 'Karīmnagar', 'Kup”yans’k', 'Paranaíba', 'Huánuco',\n",
    "       'São João da Boa Vista', 'Holguín', '‘Ar‘ar', 'Shāhjānpur', 'Nikopol’', 'Al Maḩwīt', 'Santa Maria da Vitória',\n",
    "       'Đà Lạt', 'Al ‘Alamayn', 'Bu’aale', 'Río Mayo', 'Inčukalns', 'Shīeli', 'Ukmergė', 'Zvëzdnyy', 'Saranpaul’',\n",
    "       'Shashemenē', 'Hradec Králové', 'Āksum', 'Mandalī', 'Niterói', 'Bāmyān', 'Ḩajjah', 'Zahlé', 'Békéscsaba',\n",
    "       'Sant Julià de Lòria', 'Alexandroúpoli', 'Al Hufūf', 'Ōtsu', 'Río Colorado', 'An Nuhūd', 'Mayagüez', 'Etāwah',\n",
    "       'Colíder', 'Hodoš', 'Solāpur', 'Xánthi', 'Bến Tre', 'Crateús', 'Viesīte', 'Lárisa', 'San Juan del Río',\n",
    "       'Delčevo', 'Junín', 'Brăila', 'Nāsik', 'Għasri', 'Rāichūr', 'Ródos', 'Concepción', 'Ikšķile', 'Sérres', 'Spárti',\n",
    "       'Hŭngnam', 'Ji-Paraná', 'São João del Rei', 'Port Saint John’s', 'Valença', 'Bhairāhawā', 'Zanjān', 'Ma’anshan',\n",
    "       'Graçanicë', 'Tân An', 'Nālūt', 'Az Zarqā’', 'Nazrēt', 'Samālūţ', 'Bogatić', 'Aydın', 'São Gabriel da Cachoeira',\n",
    "       'Guayaramerín', 'Puerto San José', 'Veliko Gradište', 'Caibarién', 'Noyabr’sk', 'Medellín', 'Tyumen’',\n",
    "       'Železniki', 'Lübeck', 'Ar Ramādī', 'Al’met’yevsk', 'Al Manşūrah', 'Sancti Spíritus', 'Al Bāḩah',\n",
    "       'Coronel José Félix Bogado', 'Žagubica', 'Bahía Blanca', 'Tekirdağ', 'Kyōto', 'Ćićevac', 'Şoldăneşti',\n",
    "       'Sabzevār', 'Al Buraymī', 'Thessaloníki', 'Spodnje Hoče', 'Jēkabpils', 'Užice', 'Căuşeni', 'Köneürgench',\n",
    "       'Ryazan’', 'Mallawī', 'Tunuyán', 'Călăraşi', 'Majšperk', 'Jhānsi', 'Piteşti', 'Moravče', 'Imġarr', 'Macaé',\n",
    "       'Florianópolis', 'Jaqué', 'Birāk', 'Delémont', 'Ciudad Nezahualcóyotl', 'Çankırı', 'Phôngsali', 'Konče',\n",
    "       'Qaşr al Farāfirah', 'Santa Rosa de Copán', 'Balıkesir', 'Kalyān', 'Pont-y-pŵl', 'Ubá', 'Al ‘Amārah', 'Umeå',\n",
    "       'Rače', 'Cotuí', 'Norðragøta', 'Marabá', 'João Teves', 'Boké', 'Aranđelovac', 'Pôrto Seguro', 'Ādaži',\n",
    "       'Zhangaözen', 'Zəngilan', 'Gjakovë', 'Ağdaş', 'Nikšić', 'Skellefteå', 'Preševo', 'Labé', 'Rāmpur', 'Gīmbī',\n",
    "       'Santarém', 'Canatlán', 'Buzău', 'Vol’sk', 'Kökshetaū', 'Knić', 'Masjed Soleymān', 'Sīwah', 'Herāt', 'Ādīgrat',\n",
    "       'Phan Thiết', 'Goz Beïda', 'Puerto Aysén', 'Goianésia', 'Muriaé', 'Kermān', 'Birgañj', 'Araçuaí', 'Aïn Sefra',\n",
    "       'Lar’yak', 'Put’ Lenina', 'Homyel’', 'Benito Juárez', 'Būlaevo', 'Niquelândia', 'Viña del Mar', 'Miragoâne',\n",
    "       'Mazār-e Sharīf', 'Ciudad Constitución', 'Suharekë', 'Radeče', 'Phônsavan', 'Kāshmar', 'Estância', 'Gdańsk',\n",
    "       'Āmol', 'Raška', 'Un’goofaaru', 'Pietà', 'Nīca', 'Vrapčište', 'Morón', 'Dhamār', 'Härnösand', 'Bandar ‘Abbās',\n",
    "       'Codó', 'Tam Kỳ', 'Bình Long', 'Uberlândia', 'Ciudad Obregón', 'Kramators’k', 'Nawābganj', 'Vaiņode',\n",
    "       'Al Fayyūm', 'Centar Župa', 'Mörön', 'Varaždin', 'Guéckédou', 'Laçın', 'Šmartno pri Litiji', 'Tucuruí', 'Abéché',\n",
    "       'Guaíra', 'Elbląg', 'Žirovnica', 'Harīpur', 'Vishākhapatnam', 'Jõgeva', 'Farg‘ona', 'Eiði', 'Fort Liberté',\n",
    "       'Chañaral', 'Vágur', 'Kaišiadorys', 'Šentrupert', 'Saarbrücken', 'Mūrmuiža', 'Ivdel’', 'Merošina', 'Kaposvár',\n",
    "       'Zürich', 'Osečina', 'As Sallūm', 'Yegor’yevsk', 'Ning’an', 'Füzuli', 'Belém', 'Québec', 'Kŭlob', 'Želino',\n",
    "       'Cao Lãnh', 'Banī Suwayf', 'Atakpamé', 'Għaxaq', 'Olavarría', 'Pećinci', 'São Carlos', 'Mingəçevir',\n",
    "       'Az Zāwīyah', 'Kočani', 'Kōchi', 'Vršac', 'Krško', 'Hāora', 'Rājapālaiyam', 'Kem’', 'Al Qurayyāt', 'Mālpils',\n",
    "       'Gjirokastër', 'Dadeldhurā', 'Għarb', 'Šabac', 'Rust’avi', 'Ust’-Ilimsk', 'Çorovodë', 'Simferopol’', 'Fīrozābād',\n",
    "       'Lashkar Gāh', 'Šakiai', 'Sahāranpur', 'Caicó', 'Düzce', 'Līgatne', 'Mohale’s Hoek', 'Tuy Hòa', 'Ražanj',\n",
    "       'Ludhiāna', 'Qazvīn', 'Desē', 'Meïganga', 'Atyraū', 'Žitište', 'Ağstafa', 'Amapá', 'Sodražica', 'Făleşti',\n",
    "       'Xaçmaz', 'Žiri', 'Bījār', 'Sariwŏn', 'Caacupé', 'Kamensk-Ural’skiy', 'Şirvan', 'Shemonaīkha', 'Berdyans’k',\n",
    "       'Antsiran̈ana', 'I‘zāz', 'Farīdābād', 'Anykščiai', 'Würzburg', 'Umm al ‘Abīd', 'Asadābād', 'Al ‘Arīsh',\n",
    "       'San Pedro de Macorís', 'Liepāja', 'Vel’sk', 'Kandahār', 'Qəbələ', 'Gjøvik', 'Žilina', 'Tāluqān', 'Banī Mazār',\n",
    "       'Coroatá', 'Chornomors’k', 'Durrës', 'Pagėgiai', 'Öskemen', 'Carhué', 'Saint John’s', 'Chistopol’', 'Aībak',\n",
    "       'Lu’an', 'Ma’rib', 'Ayagöz', 'Marijampolė', 'Cancún', 'Jaraguá do Sul', 'Żejtun', 'Ta‘izz', 'Dəvəçi',\n",
    "       'İsmayıllı', 'Piraçununga', 'Teleneşti', 'Al Madrah Samā’il', 'San Julián', 'Noril’sk', 'Polýgyros', 'Syzran’',\n",
    "       'Popayán', 'Koné', 'António Enes', 'Lezhë', 'Castellón de la Plana', 'Melitopol’', 'Nam Định', 'Al Ḩillah',\n",
    "       'Say’ūn', 'Al Jaghbūb', 'Zhänibek', 'Ağdam', 'Telšiai', 'Ménaka', 'Mērsrags', 'Straşeni', 'Najrān', 'Changyŏn',\n",
    "       'Mékambo', 'As Samāwah', 'Camaquã', 'Baní', 'Veržej', 'Cẩm Phả', 'Severo-Kuril’sk', 'Šentjernej',\n",
    "       'Kam”yanets’-Podil’s’kyy', 'São Luís', 'San Miguel de Tucumán', 'Saint Paul’s Bay', 'Tuluá', 'Ağcabədi',\n",
    "       'Mālegaon', 'Bouaflé', 'Al ‘Aqabah', 'Bhāgalpur', 'Al Ḩazm', 'Haymā’', 'Batī', 'Kérouané', 'Malishevë',\n",
    "       'Bhusāval', 'P’ungsan', 'Gouré', 'Dhangaḍhi̇̄', 'Güines', 'Plzeň', 'Elektrėnai', 'Jaboatão', 'Donduşeni',\n",
    "       'Aswān', 'Salacgrīva', 'Alīpur Duār', 'Juradó', 'Svolvær', 'São José dos Pinhais', 'İzmir', 'Ar Rustāq',\n",
    "       'Joaquín V. González', 'Atasū', 'Novo Airão', 'Põlva', 'Wādī Ḩalfā’', 'Catalão', 'San Antonio de los Baños',\n",
    "       'San Quintín', 'Pátra', 'Tulcán', 'Pilsrundāle', 'Bački Petrovac', 'San Ġiljan', 'Mirna Peč', 'Malo Crniće',\n",
    "       'Hämeenlinna', 'Mérida', 'Hacıqabul', 'Limbaži', 'Komsomol’sk-na-Amure', 'Kučevo', 'Río Bueno', 'Rondonópolis',\n",
    "       'Kruševo', 'Siġġiewi', 'Kākināda', 'Roatán', 'Ibagué', 'Īlām', 'Zveçan', 'Jalālābād', 'Jīma', 'Canindé',\n",
    "       'Halachó', 'Anadyr’', 'Guntūr', 'Ebebiyín', 'Xin’an', 'Nabatîyé', 'Kuršumlija', 'Ziniaré', 'Aḑ Ḑab‘ah',\n",
    "       'Portimão', 'Ak’ordat', 'Heydərabad', 'Aknīste', 'Khorramābād', 'Pāvilosta', 'Đồng Hới', 'Ust’-Maya', 'Mitú',\n",
    "       'Kırıkkale', 'Villa Constitución', 'Hāpur', 'Söke', 'Pīlibhīt', 'Brčko', 'Soubré', 'Santa Inês', 'Santo André',\n",
    "       'Puerto Carreño', 'Chaniá', 'Hāgere Hiywet', 'Banī Walīd', 'Yanbu‘', 'Polatlı', 'Caazapá', 'Gualeguaychú',\n",
    "       'Rožaje', 'Öndörhaan', 'Télimélé', 'Fu’an', 'Podol’sk', 'Donets’k', 'Laḩij', 'Saint Ann’s Bay', 'Délįne',\n",
    "       'Bălţi', 'Tecomán', 'Šilutė', 'Pārūn', 'Derzhavīnsk', 'Asyūţ', 'Ndendé', 'Ba‘qūbah', 'Kidričevo', 'Oktyabr’sk',\n",
    "       'Parnaíba', 'Bragança Paulista', 'Xocalı', 'Lomé', 'Constitución', 'Västerås', 'Vecvārkava', 'Zavrč', 'Piņķi',\n",
    "       'Bhimphedi̇̄', 'Pinar del Río', 'Ciudad Guzmán', 'Ķegums', 'Toltén', 'Tacuarembó', 'Taubaté', 'Hāthras',\n",
    "       'Ferreñafe', 'Morādābād', 'Šmarje pri Jelšah', 'Ts’khinvali', 'Yaoundé', 'Cuauhtémoc', 'Sørvágur', 'Marādah',\n",
    "       'Thái Nguyên', 'Al Khārijah', 'Tromsø', 'Bərdə', 'Severoural’sk', 'Khakhar’', 'Al Ḩudaydah', 'Wrocław', 'Ul’kan',\n",
    "       'Guanhães', 'Rogašovci', 'Štip', 'Skrīveri', 'Sept-Îles', 'Barakī Barak', 'Kamen’-na-Obi', 'Nevşehir', 'Gabès',\n",
    "       'Malmö', 'Debre Mark’os', 'Aripuanã', 'Mehtar Lām', 'Vrnjačka Banja', 'Ruše', 'Karūr', 'Bollnäs', 'Arsen’yev',\n",
    "       'Penápolis', 'Türkmenabat', 'Kök-Janggak', 'Iğdır', 'Kahramanmaraş', 'Điện Biên Phủ', 'Solčava', 'Astrakhan’',\n",
    "       'Vitória da Conquista', 'Zabīd', 'Navsāri', 'Cutral-Có', 'Ghadāmis', 'Bhāvnagar', 'Štore', 'Nepālgañj',\n",
    "       'Thái Bình', 'Guapí', 'Luče', 'Pāli', 'Itambé', 'Bîr Mogreïn', 'Kovel’', 'Paraíso', 'Gambēla', 'Ros Comáin',\n",
    "       'Kaesŏng', 'Ivančna Gorica', 'Hà Tĩnh', 'Tərtər', 'Mbé', 'Itanhaém', 'Khŭjand', 'Viðareiði', 'Alto Río Senguer',\n",
    "       'Al Kūt', 'Al Ghayz̧ah', 'Xankəndi', 'Komotiní', 'Omboué', 'Elazığ', 'Tômbua', 'Dīla', 'Jāzān', 'Plandište',\n",
    "       'Inírida', 'Safājā', 'Samandağ', 'Maiquetía', 'Ölgiy', 'Sāveh', 'Querétaro', 'Rača', 'Gävle', 'Tønsberg',\n",
    "       'Guwāhāti', 'Bāglung', 'Luleå', 'Aqtaū', 'Ust’-Nera', 'Nyagan’', 'Pathānkot', 'Rugāji', 'Zinjibār', 'Üshtöbe',\n",
    "       '‘Amrān', 'Nova Varoš', 'Long Xuyên', 'Minatitlán', 'Bīrjand', 'Séguéla', 'Tērvete', 'Chārīkār', 'As Salţ',\n",
    "       'Rørvik', 'Paraćin', 'Guajará-Mirim', 'Hamadān', 'Sétif', 'Oktyabr’skiy', '‘Ajmān', 'Gospić', 'Ratlām', 'Camaná',\n",
    "       'Palmeira dos Índios', 'Santa Lucía', 'Manp’o', 'Akmenė', 'Thakhèk', 'São Luís Gonzaga', 'Göttingen', 'Pukë',\n",
    "       'Ouésso', 'Torbat-e Jām', 'Jyväskylä', 'Sololá', 'Āsosa', 'Daşkəsən', 'Quinhámel', 'Málaga', 'Zākhū', 'Montréal',\n",
    "       'Bistriţa', 'Bač', 'Qacha’s Nek', 'San Sebastián', 'Hūn', 'Santa Luċija', 'Valparaíso', 'Dezfūl', 'Żurrieq',\n",
    "       'Beyləqan', 'Hînceşti', 'Buôn Ma Thuột', 'Il’pyrskiy', 'Minamiōzuma', 'Dar‘ā', 'Tatabánya', 'Xékong',\n",
    "       'Salgótarján', 'Kanjiža', 'Arāk', 'Ríohacha', 'Bélabo', 'Ust’-Ordynskiy', 'San Ġwann', 'Nānded', 'Salamá',\n",
    "       'Qal‘at Bīshah', 'Āsela', 'Shchëkino', 'Chŏngju', 'Kerċem', 'Gadžin Han', 'Egilsstaðir', 'Cimişlia', 'Gabú',\n",
    "       'Shū', 'Libertador General San Martín', 'Plungė', 'Hagåtña', 'Yi’an', 'Rafḩā', 'Villa Ángela', 'Xgħajra',\n",
    "       'Xocavənd', 'Győr', 'Húsavík', 'Yardımlı', 'Piñas', 'L’Aquila', 'Bayamón', 'Ségou', 'Shaḩḩāt',\n",
    "       'Balsadero Río Verde', 'Kolašin', 'Juchitán de Zaragoza', 'Bīkaner', 'Bingöl', 'Varāmīn', 'Plužine', 'Kozáni',\n",
    "       'Bestöbe', 'Razkrižje', 'Idrī', 'San José', 'Itá', 'Al Fallūjah', 'Artëmovsk', 'El Carmen de Bolívar', 'Córdoba',\n",
    "       'Batočina', 'Klinë', 'São João dos Angolares', 'Norrköping', 'Vlorë', 'Mirbāţ', 'A Coruña', 'Vadsø', 'Varakļāni',\n",
    "       'Poznań', 'Quảng Hà', 'Garzón', 'Poços de Caldas', 'Kütahya', 'Vĩnh Long', 'Sīkar', 'Črenšovci', 'Qarataū',\n",
    "       'San Cristóbal', 'As Suwaydā’', 'Nev’yansk', 'Sūhāj', 'Cúcuta', 'Biên Hòa', 'Smārde', 'Kemijärvi',\n",
    "       'Acapulco de Juárez', 'Juárez', 'Béchar', 'Petrovsk-Zabaykal’skiy', 'Lạng Sơn', 'Almería', 'Fernandópolis',\n",
    "       'Nizāmābād', 'Rạch Giá', 'Gyêgu', 'Bijāpur', 'Nandyāl', 'Središče ob Dravi', 'Yên Bái', 'Várzea Grande',\n",
    "       'Şalālah', 'Sevastopol’', 'Sélibaby', 'Jataí', 'Champotón', 'Macapá', 'Ust’-Kamchatsk', 'San José del Guaviare',\n",
    "       'Luân Châu', 'Şəmkir', 'Ísafjörður', 'Babušnica', 'Vị Thanh', 'Ormož', 'Beočin', 'Piatra Neamţ', 'Linköping',\n",
    "       'Fyzābād', 'Severobaykal’sk', 'Sonīpat', 'Sīrjān', 'Maltahöhe', 'Faīẕābād', 'Bogué', 'Kovačica',\n",
    "       'Calheta de São Miguel', 'Bezwāda', 'São Filipe', 'Odienné', 'Kavála', 'Lüderitz', 'Sankt Pölten', 'Kédougou',\n",
    "       'Kūstī', 'Košice', 'Kaédi', 'Ch’osan-ŭp', 'Rogaška Slatina', 'San Ramón de la Nueva Orán', 'Żebbuġ', 'Vitória',\n",
    "       'Šmarješke Toplice', 'Bayghanīn', 'Tuyên Quang', 'Türkistan', 'Klaipėda', 'Laško', 'Río Gallegos', 'Pýrgos',\n",
    "       'Fès', 'Siteía', 'Neyshābūr', 'Växjö', 'Bačka Topola', 'Guamúchil', 'Gyangzê', 'Şūr', 'Kyŏngju', 'Nyköping',\n",
    "       'Sandavágur', 'Žužemberk', 'Shāhrūd', 'Fuglafjørður', 'Magangué', 'Manicoré', 'São Tomé', 'Kėdainiai', 'Iaşi',\n",
    "       'José Batlle y Ordóñez', 'Përmet', 'Ust’-Kuyga', 'Ype Jhú', 'Lielvārde', 'La Unión', 'Gur’yevsk', 'Ar Rayyān',\n",
    "       'Asunción', 'Trenčín', 'Tikrīt', 'Itaberaí', 'Gusinoozërsk', 'Phủ Lý', 'Krasnotur’insk', 'Sfântu-Gheorghe',\n",
    "       'Babanūsah', 'Mitrovicë', 'Bogotá', 'Puerto Limón', 'Malargüe', 'Paysandú', 'Tokār', 'Tórshavn', 'Petatlán',\n",
    "       'Sîngerei', 'Pul-e Khumrī', 'Şırnak', 'Floreşti', 'Qalāt', 'Đà Nẵng', 'Fasā', 'Yaroslavl’', 'Constanţa',\n",
    "       'Hòa Bình', 'Ōsaka', 'Kazlų Rūda', 'Barnīs', 'Sinŭiju', 'Luhans’k', 'Turnišče', 'Sol’-Iletsk', 'Kuldīga',\n",
    "       'Radviliškis', 'Manatí', 'Puerto Berrío', 'Trípoli', 'Ra’s al Khaymah', 'Šmartno ob Paki', 'Guánica',\n",
    "       'Ermoúpoli', 'Göteborg', 'Ciudad de Huajuapam de León', 'Três Lagoas', 'Ålesund', 'Mežica', 'Mezen’', 'Brežice',\n",
    "       'Puerto Suárez', 'Quibdó', 'Straža', 'Brasília', 'Vólos', 'Salinópolis', 'Marília', 'Bhātpāra', 'Ajdābiyā',\n",
    "       'Thủ Dầu Một', 'Škofja Loka', 'Ērgļi', 'Saint George’s', 'Lai Châu', 'Kārsava', 'Jaén', 'Ajdovščina', 'Béziers',\n",
    "       'Pécs', 'Sơn Tây', 'Novobërdë', 'Novi Kneževac', 'Priekuļi', 'Ndélé', 'Sayḩūt', 'Bento Gonçalves', 'Juana Díaz',\n",
    "       'Škocjan', 'Šavnik', 'Rzeszów', 'Jönköping', 'Maīdān Shahr', 'Santa Vitória do Palmar', 'Qamīnis',\n",
    "       'Bandar-e Būshehr', 'Jaguarão', 'Maringá', 'Santa Cruz del Quiché', 'Cataño', 'Čačak', 'Yélimané', 'Thiès',\n",
    "       'Āwasa', 'Iguaçu', 'Sečanj', 'Šenčur', 'Edineţ', 'Kaçanik', 'L’gov', 'Prokop’yevsk', 'Jaú', 'Hosa’ina',\n",
    "       'Čučer-Sandevo', 'Eirunepé', 'Gżira', 'Gießen', 'M’Sila', 'Mengeš', 'Bojnūrd', 'Khōst', 'Zalău', 'Riebiņi',\n",
    "       'Lào Cai', 'Tržič', 'Quaraí', 'Tash-Kömür', 'Aţ Ţafīlah', 'Châu Đốc', 'Al Qunayţirah', 'Tubarão', 'Roslavl’',\n",
    "       'Ilha de Moçambique', 'Roboré', 'Kırşehir', 'Tây Ninh', 'Osório', 'Combarbalá', 'Marsá Maţrūḩ', 'Tišina',\n",
    "       'Saint-Jérôme', 'An Cabhán', 'Al Qāmishlī', 'Banhā', 'Villa María', 'Río Tercero', 'Balakən', 'Hưng Yên',\n",
    "       'Bragança', 'Reşiţa', 'Būrylbaytal', 'Mali Iđoš', 'Autlán de Navarro', 'Çanakkale', 'Għargħur', 'Rūjiena',\n",
    "       'Española', 'Bodø', 'Nazran’', 'Iporá', 'Jorhāt', 'Dubăsari', 'Paraguarí', 'Ağrı', 'Óbidos', 'Dún Dealgan',\n",
    "       'Gia Nghĩa', 'Šentilj', 'Angra do Heroísmo', 'Chapecó', 'São Domingos', 'Starše', 'São José dos Campos',\n",
    "       'Braşov', 'Münster', 'Piñon Hills', 'Staro Nagoričane', 'Charaña', 'Xi’an', 'Khomeynī Shahr', 'Čakovec',\n",
    "       'Nārāyanganj', 'Kimch’aek-si', 'Coronel Suárez', 'Änew', 'Nîmes', 'Temirtaū', 'San Pedro de Ycuamandiyú',\n",
    "       'San Matías', 'Fürth', 'Cumaná', 'Bāzārak', 'Ḩamāh', 'Ninh Bình', 'Kattaqo‘rg‘on', 'Širvintos', 'Paraná',\n",
    "       'Farāh', 'Capitán Pablo Lagerenza', 'Šoštanj', '‘Ataq', 'Qūchān', 'Djenné', 'Nar’yan-Mar', 'Proddatūr',\n",
    "       'Liquiçá', 'Aḑ Ḑāli‘', 'Požega', 'Bourèm Guindou', 'Quixadá', 'Mişrātah', 'Krāslava', 'Čaška', 'Unión Chocó',\n",
    "       'Santa Cruz Cabrália', 'Fayrōz Kōh', 'Żabbar', 'Ch’ŏngjin', 'Mirzāpur', 'São José de Ribamar', 'Juanjuí',\n",
    "       'Trgovište', 'Hanumānnagar', 'Trollhättan', 'Guaratinguetá', 'Ji’an', 'Tauragė', 'Gədəbəy', 'Nyíregyháza',\n",
    "       'Sokodé', 'Atoyac de Álvarez', 'Panevėžys'}\n",
    "a = non_ascii_cities()\n",
    "if a == res:\n",
    "    print(\"yiyang\")\n",
    "else:\n",
    "    print(\"buyiyang\")"
   ]
  },
  {
   "cell_type": "code",
   "execution_count": 268,
   "id": "6b1c1fdb77e8675f",
   "metadata": {
    "ExecuteTime": {
     "end_time": "2023-11-08T15:42:08.464568Z",
     "start_time": "2023-11-08T15:42:08.431271Z"
    }
   },
   "outputs": [
    {
     "name": "stdout",
     "output_type": "stream",
     "text": [
      "yiyang\n"
     ]
    }
   ],
   "source": [
    "# 1b\n",
    "b_dict = {\n",
    "    5: 45,\n",
    "    3: 199,\n",
    "    2: 691,\n",
    "}\n",
    "\n",
    "\n",
    "def test1b():\n",
    "    for key, value in b_dict.items():\n",
    "        res = num_cities_occurring_n_times(key)\n",
    "        if not isinstance(value, int):\n",
    "            print(\"zhuyileixing\")\n",
    "            return False\n",
    "            break\n",
    "        if res != value:\n",
    "            print(key, \"buyiyang\")\n",
    "            return False\n",
    "    return True\n",
    "\n",
    "\n",
    "if test1b():\n",
    "    print(\"yiyang\")\n",
    "\n",
    "\n"
   ]
  },
  {
   "cell_type": "code",
   "execution_count": 269,
   "id": "4a3a52356ce1dc08",
   "metadata": {
    "ExecuteTime": {
     "end_time": "2023-11-08T15:42:08.464623Z",
     "start_time": "2023-11-08T15:42:08.439586Z"
    }
   },
   "outputs": [
    {
     "name": "stdout",
     "output_type": "stream",
     "text": [
      "yiyang\n"
     ]
    }
   ],
   "source": [
    "# 1c\n",
    "c_dict = {'Japan': 75, 'United States': 7328, 'Mexico': 188, 'India': 212, 'Brazil': 387, 'China': 392,\n",
    "          'Bangladesh': 16, 'Argentina': 155, 'Pakistan': 41, 'Egypt': 42, 'Philippines': 118, 'Russia': 569,\n",
    "          'Turkey': 91, 'France': 58, 'Korea, South': 31, 'Nigeria': 72, 'Indonesia': 107, 'United Kingdom': 228,\n",
    "          'Peru': 89, 'Iran': 64, 'Congo (Kinshasa)': 88, 'Colombia': 72, 'Hong Kong': 1, 'Taiwan': 27, 'Thailand': 84,\n",
    "          'Chile': 84, 'Spain': 49, 'Vietnam': 74, 'Canada': 250, 'Singapore': 1, 'Angola': 49, 'Iraq': 27, 'Sudan': 35,\n",
    "          'Australia': 218, 'Saudi Arabia': 32, 'Burma': 37, 'Côte D’Ivoire': 26, 'South Africa': 72, 'Germany': 58,\n",
    "          'Algeria': 60, 'Italy': 56, 'Korea, North': 28, 'Afghanistan': 41, 'Greece': 31, 'Morocco': 21, 'Israel': 6,\n",
    "          'Ethiopia': 36, 'Kenya': 61, 'Venezuela': 51, 'Tanzania': 63, 'Portugal': 24, 'Poland': 26, 'Syria': 21,\n",
    "          'Ukraine': 51, 'Senegal': 15, 'Ecuador': 41, 'Malaysia': 33, 'Tunisia': 27, 'Austria': 10, 'Libya': 39,\n",
    "          'Uzbekistan': 30, 'Cuba': 27, 'Dominican Republic': 32, 'Azerbaijan': 74, 'Ghana': 23, 'Bolivia': 70,\n",
    "          'Kuwait': 3, 'Yemen': 27, 'Haiti': 10, 'Romania': 42, 'Cameroon': 31, 'Paraguay': 38, 'Lebanon': 8,\n",
    "          'Belarus': 15, 'Belgium': 10, 'Madagascar': 28, 'Hungary': 24, 'Zimbabwe': 23, 'Uruguay': 33, 'Mali': 31,\n",
    "          'Guinea': 29, 'Cambodia': 27, 'Togo': 9, 'Qatar': 8, 'Mozambique': 33, 'El Salvador': 14, 'Uganda': 125,\n",
    "          'Netherlands': 15, 'United Arab Emirates': 8, 'New Zealand': 51, 'Congo (Brazzaville)': 18, 'Zambia': 34,\n",
    "          'Costa Rica': 13, 'Panama': 17, 'Sweden': 35, 'Switzerland': 32, 'Kazakhstan': 96, 'Bulgaria': 27,\n",
    "          'Czechia': 13, 'Burkina Faso': 33, 'Finland': 24, 'Armenia': 12, 'Somalia': 28, 'Georgia': 15, 'Serbia': 145,\n",
    "          'Tajikistan': 8, 'Denmark': 12, 'Jordan': 12, 'Ireland': 34, 'Liberia': 17, 'Guatemala': 26, 'Chad': 27,\n",
    "          'Honduras': 20, 'Jamaica': 15, 'Djibouti': 6, 'Nicaragua': 19, 'Niger': 16, 'Albania': 26, 'Nepal': 21,\n",
    "          'Mongolia': 27, 'Rwanda': 12, 'Kyrgyzstan': 15, 'Norway': 37, 'Central African Republic': 22,\n",
    "          'Sierra Leone': 6, 'Benin': 12, 'Laos': 20, 'Latvia': 113, 'Mauritania': 22, 'Oman': 16, 'Turkmenistan': 14,\n",
    "          'Croatia': 21, 'Bosnia And Herzegovina': 7, 'Moldova': 38, 'Malawi': 29, 'Eritrea': 8, 'Mauritius': 2,\n",
    "          'Gabon': 19, 'Bahrain': 1, 'Lithuania': 54, 'Macedonia': 71, 'Slovakia': 9, 'Guinea-Bissau': 10,\n",
    "          'Estonia': 17, 'Malta': 68, 'Lesotho': 10, 'Burundi': 19, 'Slovenia': 212, 'Brunei': 4,\n",
    "          'Trinidad And Tobago': 15, 'Papua New Guinea': 27, 'Namibia': 31, 'Guyana': 13, 'Suriname': 12,\n",
    "          'Timor-Leste': 13, 'Bahamas, The': 2, 'Cyprus': 6, 'Sri Lanka': 15, 'Botswana': 25, 'Barbados': 1, 'Fiji': 4,\n",
    "          'Iceland': 9, 'Equatorial Guinea': 8, 'Curaçao': 1, 'Montenegro': 24, 'Comoros': 3, 'Cabo Verde': 23,\n",
    "          'Maldives': 21, 'South Sudan': 17, 'Luxembourg': 12, 'Bhutan': 20, 'Swaziland': 8, 'Sao Tome And Principe': 8,\n",
    "          'Solomon Islands': 9, 'Aruba': 1, 'Samoa': 12, 'Andorra': 7, 'Saint Vincent And The Grenadines': 1,\n",
    "          'Vanuatu': 6, 'Gambia, The': 8, 'Tonga': 2, 'Saint Lucia': 1, 'Monaco': 1, 'Liechtenstein': 11,\n",
    "          'Antigua And Barbuda': 1, 'Grenada': 1, 'Seychelles': 1, 'San Marino': 9, 'Kiribati': 1,\n",
    "          'Marshall Islands': 1, 'Dominica': 1, 'Saint Kitts And Nevis': 1, 'Belize': 7, 'American Samoa': 1,\n",
    "          'Tuvalu': 1, 'Micronesia, Federated States Of': 5, 'Northern Mariana Islands': 1, 'Guam': 2, 'West Bank': 1,\n",
    "          'Sint Maarten': 1, 'Kosovo': 37, 'Palau': 3, 'Macau': 1, 'Puerto Rico': 58, 'Martinique': 1, 'Reunion': 2,\n",
    "          'Gibraltar': 1, 'Guadeloupe': 3, 'French Polynesia': 1, 'New Caledonia': 3, 'French Guiana': 7, 'Mayotte': 1,\n",
    "          'Greenland': 22, 'Faroe Islands': 29, 'Wallis And Futuna': 1,\n",
    "          'Saint Helena, Ascension, And Tristan Da Cunha': 2, 'Bermuda': 1, 'Isle Of Man': 1,\n",
    "          'Turks And Caicos Islands': 1, 'Cayman Islands': 1, 'Cook Islands': 1, 'Falkland Islands (Islas Malvinas)': 1,\n",
    "          'South Georgia And South Sandwich Islands': 1}\n",
    "d_res = country_num_cities_dict()\n",
    "if not isinstance(d_res, dict):\n",
    "    print(\"zhuyileixing\")\n",
    "if country_num_cities_dict() == c_dict:\n",
    "    print(\"yiyang\")\n",
    "else:\n",
    "    print(\"buyiyang\")"
   ]
  },
  {
   "cell_type": "code",
   "execution_count": 270,
   "id": "1a1fcbd14e0cf4c4",
   "metadata": {
    "ExecuteTime": {
     "end_time": "2023-11-08T15:42:08.464830Z",
     "start_time": "2023-11-08T15:42:08.442359Z"
    }
   },
   "outputs": [
    {
     "name": "stdout",
     "output_type": "stream",
     "text": [
      "yiyang\n"
     ]
    }
   ],
   "source": [
    "# 1d\n",
    "d_dict = {\n",
    "    5: WC_DF.sort_values(by=[\"population\"], ascending=False)[:5],\n",
    "    6: WC_DF.sort_values(by=[\"population\"], ascending=False)[:6],\n",
    "    7: WC_DF.sort_values(by=[\"population\"], ascending=False)[:7],\n",
    "}\n",
    "\n",
    "\n",
    "def test1d():\n",
    "    for key, value in d_dict.items():\n",
    "        res = largest_cities_dataframe(key)\n",
    "        if not res.equals(value):\n",
    "            print(key, \"buyiyang\")\n",
    "            return False\n",
    "    return True\n",
    "\n",
    "\n",
    "if test1d():\n",
    "    print(\"yiyang\")\n",
    "\n",
    "\n"
   ]
  },
  {
   "cell_type": "code",
   "execution_count": 271,
   "id": "30a97624b808b62d",
   "metadata": {
    "ExecuteTime": {
     "end_time": "2023-11-08T15:42:08.465895Z",
     "start_time": "2023-11-08T15:42:08.458767Z"
    }
   },
   "outputs": [
    {
     "name": "stdout",
     "output_type": "stream",
     "text": [
      "yiyang\n"
     ]
    }
   ],
   "source": [
    "# 1e\n",
    "e_dict = {\n",
    "    ('Taiwan', 0): [('Taibao', 35000), ('Pozi', 50000), ('Magong', 56435), ('Douliu', 106653), ('Miaoli', 150000),\n",
    "                    ('Yilan', 150000), ('Nantou', 165000), ('Bade', 172065), ('Taitung', 175000), ('Yangmei', 175000),\n",
    "                    ('Zhubei', 200000), ('Pingzhen', 201632), ('Hualien', 350468), ('Keelung', 500000),\n",
    "                    ('Taoyuan District', 500000), ('Chiayi', 500000), ('Pingtung', 503530), ('Changhua', 750000),\n",
    "                    ('Hsinchu', 750000), ('Zhongli', 1632616), ('Tainan', 1876312), ('Taichung', 2629323),\n",
    "                    ('Kaohsiung', 2769072), ('Taipei', 6900273)],\n",
    "    ('India', 1000000): [('Ranchi', 1044000), ('Solapur', 1057000), ('Bhilai', 1097000), ('Aurangabad', 1113000),\n",
    "                         ('Bezwada', 1137000), ('Srinagar', 1140000), ('Allahabad', 1201000), ('Warangal', 1203853),\n",
    "                         ('Amritsar', 1212000), ('Dhanbad', 1246000), ('Rajkot', 1260000), ('Jabalpur', 1285000),\n",
    "                         ('Madura', 1294000), ('Jamshedpur', 1300000), ('Asansol', 1328000), ('Ghaziabad', 1341000),\n",
    "                         ('Varanasi', 1352000), ('Faridabad', 1394000), ('Meerut', 1398000), ('Nasik', 1473000),\n",
    "                         ('Kochi', 1519000), ('Vishakhapatnam', 1529000), ('Kalyan', 1576614), ('Agra', 1592000),\n",
    "                         ('Ludhiana', 1649000), ('Coimbatore', 1696000), ('Bhopal', 1727000), ('Vadodara', 1756000),\n",
    "                         ('Indore', 2026000), ('Patna', 2158000), ('Nagpur', 2454000), ('Lucknow', 2695000),\n",
    "                         ('Jaipur', 2917000), ('Cawnpore', 3162000), ('Surat', 3842000), ('Pune', 4672000),\n",
    "                         ('Haora', 4841638), ('Ahmadabad', 5375000), ('Hyderabad', 6376000), ('Bengaluru', 6787000),\n",
    "                         ('Chennai', 7163000), ('Kolkata', 14787000), ('Delhi', 15926000), ('Mumbai', 18978000)],\n",
    "    ('Brazil', 1000000): [('Florianopolis', 1023000), ('Sao Luis', 1038000), ('Natal', 1088000), ('Maceio', 1186000),\n",
    "                          ('Vila Velha', 1209091), ('Vila Velha', 1209091), ('Niteroi', 1500513), ('Vitoria', 1704000),\n",
    "                          ('Santos', 1709000), ('Manaus', 1753000), ('Goiania', 2022000), ('Belem', 2167000),\n",
    "                          ('Campinas', 2791000), ('Curitiba', 3084000), ('Salvador', 3484000), ('Fortaleza', 3602319),\n",
    "                          ('Recife', 3651000), ('Brasilia', 3716996), ('Porto Alegre', 3917000),\n",
    "                          ('Belo Horizonte', 5575000), ('Rio de Janeiro', 11748000), ('Sao Paulo', 18845000)],\n",
    "}\n",
    "\n",
    "\n",
    "def test1e():\n",
    "    for key, value in e_dict.items():\n",
    "        res = big_cities_in_country(key[0], key[1])\n",
    "        if not isinstance(res, list):\n",
    "            print(\"zhuyileixing\")\n",
    "            return False\n",
    "        if res != value:\n",
    "            print(key, \"buyiyang\")\n",
    "            return False\n",
    "    return True\n",
    "\n",
    "\n",
    "if test1e():\n",
    "    print(\"yiyang\")"
   ]
  },
  {
   "cell_type": "code",
   "execution_count": 272,
   "id": "ed11cdd292446e89",
   "metadata": {
    "ExecuteTime": {
     "end_time": "2023-11-08T15:42:08.479240Z",
     "start_time": "2023-11-08T15:42:08.463859Z"
    }
   },
   "outputs": [
    {
     "name": "stdout",
     "output_type": "stream",
     "text": [
      "yiyang\n"
     ]
    }
   ],
   "source": [
    "# 1f\n",
    "b_dict = {\n",
    "    'Taiwan': 21298379,\n",
    "    'India': 204338075,\n",
    "    'Brazil': 127259225,\n",
    "}\n",
    "\n",
    "\n",
    "def test1b():\n",
    "    for key, value in b_dict.items():\n",
    "        res = country_total_cities_population(key)\n",
    "        if not isinstance(value, int):\n",
    "            print(\"zhuyileixing\")\n",
    "            return False\n",
    "            break\n",
    "        if res != value:\n",
    "            print(key, \"buyiyang\")\n",
    "            return False\n",
    "    return True\n",
    "\n",
    "\n",
    "if test1b():\n",
    "    print(\"yiyang\")\n"
   ]
  },
  {
   "cell_type": "code",
   "execution_count": 273,
   "id": "8546f3e2ef37eaaa",
   "metadata": {
    "ExecuteTime": {
     "end_time": "2023-11-08T15:42:08.479310Z",
     "start_time": "2023-11-08T15:42:08.466475Z"
    }
   },
   "outputs": [],
   "source": [
    "\n",
    "# Q2"
   ]
  },
  {
   "cell_type": "code",
   "execution_count": 274,
   "id": "da5b71bd73784e46",
   "metadata": {
    "ExecuteTime": {
     "end_time": "2023-11-08T15:42:08.479914Z",
     "start_time": "2023-11-08T15:42:08.468621Z"
    }
   },
   "outputs": [],
   "source": [
    "# read testData\n",
    "QUAKE_DF = pandas.read_csv(\"all_day.csv\")"
   ]
  },
  {
   "cell_type": "code",
   "execution_count": 275,
   "id": "d37c8415e7673c3e",
   "metadata": {
    "ExecuteTime": {
     "end_time": "2023-11-08T15:42:08.479941Z",
     "start_time": "2023-11-08T15:42:08.473070Z"
    }
   },
   "outputs": [],
   "source": [
    "# 2a\n",
    "# omit"
   ]
  },
  {
   "cell_type": "code",
   "execution_count": 276,
   "id": "8c12e777f0cffcdf",
   "metadata": {
    "ExecuteTime": {
     "end_time": "2023-11-08T15:42:08.520706Z",
     "start_time": "2023-11-08T15:42:08.475618Z"
    }
   },
   "outputs": [
    {
     "name": "stdout",
     "output_type": "stream",
     "text": [
      "yiyang\n"
     ]
    }
   ],
   "source": [
    "# 2b\n",
    "import pandas\n",
    "\n",
    "b2_dict = {\n",
    "    3: \"2b_3_data.csv\",\n",
    "    2: \"2b_2_data.csv\",\n",
    "    4: \"2b_4_data.csv\",\n",
    "}\n",
    "\n",
    "\n",
    "def test2b():\n",
    "    for key, value in b2_dict.items():\n",
    "        valueData = pandas.read_csv(value)\n",
    "        resFunction = powerful_quakes(key)\n",
    "        resFunctionNew = resFunction.reset_index(drop=True)\n",
    "        if not resFunctionNew.equals(valueData):\n",
    "            print(key, \"buyiyang\")\n",
    "            return False\n",
    "    return True\n",
    "\n",
    "\n",
    "if test2b():\n",
    "    print(\"yiyang\")\n",
    "    "
   ]
  },
  {
   "cell_type": "code",
   "execution_count": 277,
   "id": "679f98e5295fe9dd",
   "metadata": {
    "ExecuteTime": {
     "end_time": "2023-11-08T15:42:08.522719Z",
     "start_time": "2023-11-08T15:42:08.481947Z"
    }
   },
   "outputs": [
    {
     "name": "stdout",
     "output_type": "stream",
     "text": [
      "yiyang\n"
     ]
    }
   ],
   "source": [
    "# 2c\n",
    "# 等级一样的顺序不重要\n",
    "\n",
    "c2_dict = {\n",
    "    7: \"2c_7_data.csv\",\n",
    "    20: \"2c_20_data.csv\",\n",
    "    50: \"2c_50_data.csv\",\n",
    "}\n",
    "\n",
    "def test2c():\n",
    "    for key, value in c2_dict.items():\n",
    "        valueData = pandas.read_csv(value)\n",
    "        resFunction = most_powerful_n_quakes(key)\n",
    "        resFunctionNew = resFunction.reset_index(drop=True)\n",
    "        for i in range(len(valueData)):\n",
    "            if not resFunctionNew.head(i).equals(valueData.head(i)):\n",
    "                print(key,i, \"buyiyang\")\n",
    "                return False\n",
    "    return True\n",
    "\n",
    "\n",
    "if test2c():\n",
    "    print(\"yiyang\")"
   ]
  },
  {
   "cell_type": "code",
   "execution_count": 278,
   "id": "c2c38f4e91dc7ffb",
   "metadata": {
    "ExecuteTime": {
     "end_time": "2023-11-08T15:42:08.530206Z",
     "start_time": "2023-11-08T15:42:08.518077Z"
    }
   },
   "outputs": [
    {
     "name": "stdout",
     "output_type": "stream",
     "text": [
      "yiyang\n"
     ]
    }
   ],
   "source": [
    "# 2d\n",
    "# jing du wen ti dao zhi pi pei bu cheng gong\n",
    "d2_dict = {\n",
    "    (120.0, 121.0): \"2d_120_121_data\",\n",
    "}\n",
    "\n",
    "\n",
    "def test2d():\n",
    "    for key, value in d2_dict.items():\n",
    "        valueData = pandas.read_csv(value + \".csv\")\n",
    "        resFunction = quake_distance_from_loc_dataframe(key)\n",
    "        resFunction.to_csv(value + \"_New\" + \".csv\", index=False)\n",
    "        valueDataNew = pandas.read_csv(value + \"_New\" + \".csv\")\n",
    "        aa = valueData.iloc[0]\n",
    "        bb = valueDataNew.iloc[0]\n",
    "        for i in range(len(aa)):\n",
    "            if aa[i] != bb[i]:\n",
    "                print(aa[i], \" \", bb[i], \" \", \"error\")\n",
    "                break\n",
    "        if not valueData.equals(valueDataNew):\n",
    "            print(key, \"buyiyang\")\n",
    "            return False\n",
    "\n",
    "    return True\n",
    "\n",
    "\n",
    "if test2d():\n",
    "    print(\"yiyang\")\n"
   ]
  },
  {
   "cell_type": "code",
   "execution_count": 279,
   "id": "b5400c3c573c68ef",
   "metadata": {
    "ExecuteTime": {
     "end_time": "2023-11-08T15:42:08.530319Z",
     "start_time": "2023-11-08T15:42:08.525445Z"
    }
   },
   "outputs": [],
   "source": [
    "# 2e\n"
   ]
  }
 ],
 "metadata": {
  "kernelspec": {
   "display_name": "Python 3 (ipykernel)",
   "language": "python",
   "name": "python3"
  },
  "language_info": {
   "codemirror_mode": {
    "name": "ipython",
    "version": 3
   },
   "file_extension": ".py",
   "mimetype": "text/x-python",
   "name": "python",
   "nbconvert_exporter": "python",
   "pygments_lexer": "ipython3",
   "version": "3.11.5"
  }
 },
 "nbformat": 4,
 "nbformat_minor": 5
}
